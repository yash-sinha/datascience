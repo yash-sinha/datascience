{
 "cells": [
  {
   "cell_type": "code",
   "execution_count": 22,
   "metadata": {
    "collapsed": false
   },
   "outputs": [],
   "source": [
    "import pandas as pd\n",
    "import matplotlib.pyplot as plt\n",
    "import numpy as np\n",
    "import math\n",
    "from sklearn.linear_model import LinearRegression\n",
    "from sklearn.cross_validation import KFold\n",
    "from sklearn.cross_validation import cross_val_score"
   ]
  },
  {
   "cell_type": "code",
   "execution_count": 23,
   "metadata": {
    "collapsed": false
   },
   "outputs": [],
   "source": [
    "data = pd.read_csv(\"AmesHousing.txt\", sep = '\\t')\n",
    "train = data[:1460]\n",
    "test = data[1460:]"
   ]
  },
  {
   "cell_type": "code",
   "execution_count": 34,
   "metadata": {
    "collapsed": true
   },
   "outputs": [],
   "source": [
    "def transform_features():\n",
    "    train_set = train\n",
    "    cutoff = 0.25 * len(train_set)\n",
    "    train_null_counts = train_set.isnull().sum()\n",
    "    df_missing_values = train_set[train_null_counts[(train_null_counts < cutoff) & (train_null_counts > 0)].index]\n",
    "    train_set = train_set.drop(float_cols.columns.values, axis=1)\n",
    "    \n",
    "    float_cols = df_missing_values.select_dtypes(include=['float'])\n",
    "    float_cols = float_cols.fillna(float_cols.mean())\n",
    "    train_set = train_set.drop(float_cols.columns.values, axis=1)\n",
    "    train_set = pd.concat([train_set, float_cols], axis = 1)\n",
    "    text_cols = train_set.select_dtypes(include=['object']).columns\n",
    "    for col in text_cols:\n",
    "        train[col] = train[col].astype('category')\n",
    "    for col in text_cols:\n",
    "        col_dummies = pd.get_dummies(train_set[col])\n",
    "        train_set = pd.concat([train_set, col_dummies], axis=1)\n",
    "        del train_set[col]\n",
    "    return train_set"
   ]
  },
  {
   "cell_type": "code",
   "execution_count": 35,
   "metadata": {
    "collapsed": false
   },
   "outputs": [
    {
     "name": "stdout",
     "output_type": "stream",
     "text": [
      "<class 'pandas.core.frame.DataFrame'>\n",
      "RangeIndex: 1460 entries, 0 to 1459\n",
      "Data columns (total 82 columns):\n",
      "Order              1460 non-null int64\n",
      "PID                1460 non-null int64\n",
      "MS SubClass        1460 non-null int64\n",
      "MS Zoning          1460 non-null category\n",
      "Lot Area           1460 non-null int64\n",
      "Street             1460 non-null category\n",
      "Alley              109 non-null category\n",
      "Lot Shape          1460 non-null category\n",
      "Land Contour       1460 non-null category\n",
      "Utilities          1460 non-null category\n",
      "Lot Config         1460 non-null category\n",
      "Land Slope         1460 non-null category\n",
      "Neighborhood       1460 non-null category\n",
      "Condition 1        1460 non-null category\n",
      "Condition 2        1460 non-null category\n",
      "Bldg Type          1460 non-null category\n",
      "House Style        1460 non-null category\n",
      "Overall Qual       1460 non-null int64\n",
      "Overall Cond       1460 non-null int64\n",
      "Year Built         1460 non-null int64\n",
      "Year Remod/Add     1460 non-null int64\n",
      "Roof Style         1460 non-null category\n",
      "Roof Matl          1460 non-null category\n",
      "Exterior 1st       1460 non-null category\n",
      "Exterior 2nd       1460 non-null category\n",
      "Mas Vnr Type       1449 non-null category\n",
      "Exter Qual         1460 non-null category\n",
      "Exter Cond         1460 non-null category\n",
      "Foundation         1460 non-null category\n",
      "Bsmt Qual          1420 non-null category\n",
      "Bsmt Cond          1420 non-null category\n",
      "Bsmt Exposure      1419 non-null category\n",
      "BsmtFin Type 1     1420 non-null category\n",
      "BsmtFin Type 2     1419 non-null category\n",
      "Heating            1460 non-null category\n",
      "Heating QC         1460 non-null category\n",
      "Central Air        1460 non-null category\n",
      "Electrical         1460 non-null category\n",
      "1st Flr SF         1460 non-null int64\n",
      "2nd Flr SF         1460 non-null int64\n",
      "Low Qual Fin SF    1460 non-null int64\n",
      "Gr Liv Area        1460 non-null int64\n",
      "Full Bath          1460 non-null int64\n",
      "Half Bath          1460 non-null int64\n",
      "Bedroom AbvGr      1460 non-null int64\n",
      "Kitchen AbvGr      1460 non-null int64\n",
      "Kitchen Qual       1460 non-null category\n",
      "TotRms AbvGrd      1460 non-null int64\n",
      "Functional         1460 non-null category\n",
      "Fireplaces         1460 non-null int64\n",
      "Fireplace Qu       743 non-null category\n",
      "Garage Type        1386 non-null category\n",
      "Garage Finish      1385 non-null category\n",
      "Garage Cars        1460 non-null float64\n",
      "Garage Area        1460 non-null float64\n",
      "Garage Qual        1385 non-null category\n",
      "Garage Cond        1385 non-null category\n",
      "Paved Drive        1460 non-null category\n",
      "Wood Deck SF       1460 non-null int64\n",
      "Open Porch SF      1460 non-null int64\n",
      "Enclosed Porch     1460 non-null int64\n",
      "3Ssn Porch         1460 non-null int64\n",
      "Screen Porch       1460 non-null int64\n",
      "Pool Area          1460 non-null int64\n",
      "Pool QC            1 non-null category\n",
      "Fence              297 non-null category\n",
      "Misc Feature       60 non-null category\n",
      "Misc Val           1460 non-null int64\n",
      "Mo Sold            1460 non-null int64\n",
      "Yr Sold            1460 non-null int64\n",
      "Sale Type          1460 non-null category\n",
      "Sale Condition     1460 non-null category\n",
      "SalePrice          1460 non-null int64\n",
      "Lot Frontage       1460 non-null float64\n",
      "Mas Vnr Area       1460 non-null float64\n",
      "BsmtFin SF 1       1460 non-null float64\n",
      "BsmtFin SF 2       1460 non-null float64\n",
      "Bsmt Unf SF        1460 non-null float64\n",
      "Total Bsmt SF      1460 non-null float64\n",
      "Bsmt Full Bath     1460 non-null float64\n",
      "Bsmt Half Bath     1460 non-null float64\n",
      "Garage Yr Blt      1460 non-null float64\n",
      "dtypes: category(43), float64(11), int64(28)\n",
      "memory usage: 508.1 KB\n"
     ]
    }
   ],
   "source": [
    "train_set = transform_features()\n",
    "train_set.info()"
   ]
  },
  {
   "cell_type": "code",
   "execution_count": 11,
   "metadata": {
    "collapsed": true
   },
   "outputs": [],
   "source": [
    "def select_features():\n",
    "    return train[[\"Gr Liv Area\", \"SalePrice\"]]"
   ]
  },
  {
   "cell_type": "code",
   "execution_count": 18,
   "metadata": {
    "collapsed": false
   },
   "outputs": [],
   "source": [
    "def train_and_test():\n",
    "    df = select_features()\n",
    "    df = train[train.columns.difference(['SalePrice'])]\n",
    "    model = LinearRegression()\n",
    "    model.fit(df, train[\"SalePrice\"])\n",
    "    kf = KFold(len(train))\n",
    "    cross_val_score(model, df, train[\"SalePrice\"], scoring = \"mean_squared_error\", cv=kf)\n",
    "        "
   ]
  },
  {
   "cell_type": "code",
   "execution_count": null,
   "metadata": {
    "collapsed": true
   },
   "outputs": [],
   "source": []
  }
 ],
 "metadata": {
  "anaconda-cloud": {},
  "kernelspec": {
   "display_name": "Python 3",
   "language": "python",
   "name": "python3"
  },
  "language_info": {
   "codemirror_mode": {
    "name": "ipython",
    "version": 3
   },
   "file_extension": ".py",
   "mimetype": "text/x-python",
   "name": "python",
   "nbconvert_exporter": "python",
   "pygments_lexer": "ipython3",
   "version": "3.4.3"
  }
 },
 "nbformat": 4,
 "nbformat_minor": 2
}
