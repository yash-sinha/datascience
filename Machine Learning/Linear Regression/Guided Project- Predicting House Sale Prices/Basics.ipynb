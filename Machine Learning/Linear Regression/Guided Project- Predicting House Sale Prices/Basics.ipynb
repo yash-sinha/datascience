{
 "cells": [
  {
   "cell_type": "code",
   "execution_count": 107,
   "metadata": {
    "collapsed": false
   },
   "outputs": [],
   "source": [
    "import pandas as pd\n",
    "import matplotlib.pyplot as plt\n",
    "import numpy as np\n",
    "import math\n",
    "from sklearn.linear_model import LinearRegression\n",
    "from sklearn.cross_validation import KFold\n",
    "from sklearn.cross_validation import cross_val_score\n",
    "import seaborn as sns\n",
    "%matplotlib inline"
   ]
  },
  {
   "cell_type": "code",
   "execution_count": 108,
   "metadata": {
    "collapsed": false
   },
   "outputs": [],
   "source": [
    "data = pd.read_csv(\"AmesHousing.txt\", sep = '\\t')\n",
    "train = data[:1460]\n",
    "test = data[1460:]"
   ]
  },
  {
   "cell_type": "code",
   "execution_count": 109,
   "metadata": {
    "collapsed": false
   },
   "outputs": [],
   "source": [
    "def transform_features(df):\n",
    "    if \"PID\" in df.columns:\n",
    "        df.drop(\"PID\", axis = 1, inplace = True)\n",
    "    train_set = df\n",
    "    train_set[\"years_until_remod\"] = train_set[\"Year Remod/Add\"] - train_set[\"Year Built\"]    \n",
    "\n",
    "    cutoff = 0.25 * len(train_set)\n",
    "    train_null_counts = train_set.isnull().sum()\n",
    "    df_missing_values = train_set[train_null_counts[(train_null_counts < cutoff) & (train_null_counts > 0)].index]\n",
    "    float_cols = df_missing_values.select_dtypes(include=['float'])\n",
    "    float_cols = float_cols.fillna(float_cols.mean())\n",
    "    train_set = train_set.drop(float_cols.columns.values, axis=1)\n",
    "    train_set = pd.concat([train_set, float_cols], axis = 1)\n",
    "    text_cols = train_set.select_dtypes(include=['object'])\n",
    "    \n",
    "    #dropping columns with large number of unique values\n",
    "    for cols in text_cols.columns:\n",
    "        if len(text_cols[cols].value_counts()) < 5:\n",
    "            text_cols.drop(cols, axis = 1)\n",
    "    \n",
    "    #dropping columns with low standard deviation\n",
    "    text_cols = text_cols.drop(text_cols.var()[text_cols.var() < 0.2].index.values, axis=1)\n",
    "\n",
    "    for col in text_cols:\n",
    "        train_set[col] = train_set[col].astype('category')\n",
    "    for col in text_cols:\n",
    "        col_dummies = pd.get_dummies(train_set[col])\n",
    "        train_set = pd.concat([train_set, col_dummies], axis=1)\n",
    "        del train_set[col]\n",
    "    \n",
    "    train_null_counts = train_set.isnull().sum()\n",
    "    df_missing_values = train_set[train_null_counts[(train_null_counts > 0)].index]\n",
    "    train_set = train_set.drop(df_missing_values.columns.values, axis=1)\n",
    "    return train_set"
   ]
  },
  {
   "cell_type": "code",
   "execution_count": 110,
   "metadata": {
    "collapsed": false
   },
   "outputs": [
    {
     "name": "stderr",
     "output_type": "stream",
     "text": [
      "/dataquest/system/env/python3/lib/python3.4/site-packages/ipykernel/__main__.py:3: SettingWithCopyWarning: \n",
      "A value is trying to be set on a copy of a slice from a DataFrame\n",
      "\n",
      "See the caveats in the documentation: http://pandas.pydata.org/pandas-docs/stable/indexing.html#indexing-view-versus-copy\n",
      "  app.launch_new_instance()\n",
      "/dataquest/system/env/python3/lib/python3.4/site-packages/ipykernel/__main__.py:5: SettingWithCopyWarning: \n",
      "A value is trying to be set on a copy of a slice from a DataFrame.\n",
      "Try using .loc[row_indexer,col_indexer] = value instead\n",
      "\n",
      "See the caveats in the documentation: http://pandas.pydata.org/pandas-docs/stable/indexing.html#indexing-view-versus-copy\n"
     ]
    },
    {
     "name": "stdout",
     "output_type": "stream",
     "text": [
      "<class 'pandas.core.frame.DataFrame'>\n",
      "RangeIndex: 1460 entries, 0 to 1459\n",
      "Columns: 284 entries, Order to Partial\n",
      "dtypes: float64(11), int64(28), uint8(245)\n",
      "memory usage: 794.2 KB\n"
     ]
    }
   ],
   "source": [
    "train_set = transform_features(train)\n",
    "train_set.info()"
   ]
  },
  {
   "cell_type": "code",
   "execution_count": 112,
   "metadata": {
    "collapsed": false
   },
   "outputs": [
    {
     "name": "stderr",
     "output_type": "stream",
     "text": [
      "/dataquest/system/env/python3/lib/python3.4/site-packages/ipykernel/__main__.py:5: SettingWithCopyWarning: \n",
      "A value is trying to be set on a copy of a slice from a DataFrame.\n",
      "Try using .loc[row_indexer,col_indexer] = value instead\n",
      "\n",
      "See the caveats in the documentation: http://pandas.pydata.org/pandas-docs/stable/indexing.html#indexing-view-versus-copy\n"
     ]
    },
    {
     "name": "stdout",
     "output_type": "stream",
     "text": [
      "<class 'pandas.core.frame.DataFrame'>\n",
      "RangeIndex: 1470 entries, 1460 to 2929\n",
      "Columns: 296 entries, Order to Partial\n",
      "dtypes: float64(11), int64(28), uint8(257)\n",
      "memory usage: 816.9 KB\n"
     ]
    }
   ],
   "source": [
    "test_set = transform_features(test)\n",
    "test_set.info()"
   ]
  },
  {
   "cell_type": "code",
   "execution_count": 116,
   "metadata": {
    "collapsed": true
   },
   "outputs": [],
   "source": [
    "def select_features(df):\n",
    "    #correlations\n",
    "    corrs = df[df.columns].corr()[\"SalePrice\"]\n",
    "    sorted_corrs = corrs.sort_values()\n",
    "    strong_corrs = sorted_corrs[sorted_corrs > 0.3]\n",
    "    corrsmat = df[strong_corrs.index].corr()\n",
    "    #sns.heatmap(corrsmat)\n",
    "    #highest correlations\n",
    "    features = strong_corrs.index\n",
    "    return corrsmat, df[features]"
   ]
  },
  {
   "cell_type": "code",
   "execution_count": 117,
   "metadata": {
    "collapsed": false
   },
   "outputs": [],
   "source": [
    "def train_and_test(df):\n",
    "    _, df = select_features(df)\n",
    "    train_df = df[df.columns.difference(['SalePrice'])]\n",
    "    model = LinearRegression()\n",
    "    kf = KFold(len(df))\n",
    "    mse = cross_val_score(model, train_df, df[\"SalePrice\"], scoring = \"mean_squared_error\", cv=kf)\n",
    "    return mse"
   ]
  },
  {
   "cell_type": "code",
   "execution_count": 105,
   "metadata": {
    "collapsed": false
   },
   "outputs": [],
   "source": [
    "#corrsmat, df = select_features(train_set)\n",
    "#sns.heatmap(corrsmat)"
   ]
  },
  {
   "cell_type": "code",
   "execution_count": 134,
   "metadata": {
    "collapsed": false
   },
   "outputs": [],
   "source": [
    "mse = train_and_test(train_set)"
   ]
  },
  {
   "cell_type": "code",
   "execution_count": 141,
   "metadata": {
    "collapsed": false
   },
   "outputs": [
    {
     "name": "stdout",
     "output_type": "stream",
     "text": [
      "848016316.086\n",
      "2.08897442196e+25\n",
      "3.74699049315e+25\n"
     ]
    }
   ],
   "source": [
    "print(mse.dtype)\n",
    "\n",
    "mse_list = mse\n",
    "np.array(mse_list)**0.5\n",
    "# print(np.mean(mse_list))"
   ]
  },
  {
   "cell_type": "code",
   "execution_count": null,
   "metadata": {
    "collapsed": true
   },
   "outputs": [],
   "source": []
  }
 ],
 "metadata": {
  "anaconda-cloud": {},
  "kernelspec": {
   "display_name": "Python 3",
   "language": "python",
   "name": "python3"
  },
  "language_info": {
   "codemirror_mode": {
    "name": "ipython",
    "version": 3
   },
   "file_extension": ".py",
   "mimetype": "text/x-python",
   "name": "python",
   "nbconvert_exporter": "python",
   "pygments_lexer": "ipython3",
   "version": "3.4.3"
  }
 },
 "nbformat": 4,
 "nbformat_minor": 2
}
